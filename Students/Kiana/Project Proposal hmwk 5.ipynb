{
 "cells": [
  {
   "cell_type": "markdown",
   "metadata": {},
   "source": [
    "### End of Semester Project Proposal"
   ]
  },
  {
   "cell_type": "markdown",
   "metadata": {},
   "source": [
    "I plan to create an interactive module that will fit light curves to RR Lyrae variable stars using the Lomb-Scargle periodogram method, and then perform a fit based on the most likely period, using the `gatsby` package. It will then display these fits overlayed with the data, as well as the power-frequency plot used to create the fit, for a user to evaluate visually.   Although we can use modeling tools like `gatsby` and `astropy` to generate fits for variable stars, it is still important that they are reviewed by humans.  "
   ]
  },
  {
   "cell_type": "markdown",
   "metadata": {},
   "source": [
    "There are many reasons why a modeling program could fit a curve incorrectly, and by combining displaying the most likely fit, along with a power-frequency plot of likely fits, fits that do not line up with the data can be easily flagged for closer analysis. By creating the module described below, I will help streamline the process of analyzing RR Lyrae stars, as well as provide an easy way to flag poor fits for closer examination.\n",
    "\n",
    "__Objective__: Create a tool to easily visually review light-curve fits of variable stars, and categorize the quality of those fits. If this tool were used on a larger scale it would streamline the process of finding the periods of RR Lyrae variable stars.  "
   ]
  },
  {
   "cell_type": "markdown",
   "metadata": {},
   "source": [
    "I will be using Lomb-Scargle periodograms, which are a Fourier-space based method, to build a light curve fitting module.  The program will:\n",
    "-  [DONE] Read in a dataset of RR Lyrae stars from the ZTF*, and perform fits on each variable.\n",
    "-  Inform the user of what makes a good/bad fit, to attempt to create some uniformity in a somewhat subjective evaluation. \n",
    "-  [DONE] Present a plot of each variable's data with the most likely fit to the user, as well as the power-frequency plot for that variable.  \n",
    "-  [semidone- ideally prev graph vanishes]__Interactive Elements__: Ability to flip through the plots one by one, probably with buttons, and tools to mark fits as good or bad. Possibly other elements.\n",
    "-  [Update: all in one file. No need to have 2 files. Good and bad fits marked with 1 or 0.] The program will then compile the good fits into one output and the bad fits into a separate one. The user can then more closely examine the bad fits, perhaps by re-running the bad fit output file through the modeling program. (Although I'm not sure if it will try a different fit or the same one. If I have time I may look into an element that would allow the user to adjust which period is being modeled, using the power-frequency plot.)\n",
    "-  [Prev steps took a long time, extension not done.] Possible extension: If all this isn't too difficult I will try implementing an option that would allow the user to set a standard of quality of fit which would self-sort the fits, since if you had a very large dataset and were confident that the good fits are actually good fits, it would be more efficient to only manually review the bad fits. \n",
    "\n",
    "__Deliverables__: Two output files, one containing the data, periodogram info, and fit of variable stars that were well-fitted, and the other containing the same information for variable stars that were _not_ well-fitted.\n",
    "\n",
    "*I do not have ZTF data access at this time so I am not totally sure what form the dataset will be in, whether there are datasets of just variable stars or if my program will need to find the variable stars before modeling their periods, but I will figure this out when I get access."
   ]
  },
  {
   "cell_type": "markdown",
   "metadata": {},
   "source": [
    "I will be using the `gatsby` package because it allows a more nuanced fit than a simple sinusoid, which should make evaluating a fit easier. Although I haven't yet tested it myself, the examples given in the docs seem very promising, and pretty straightforward. The documentation for `gatsby` can be found at: http://www.astroml.org/gatspy/"
   ]
  }
 ],
 "metadata": {
  "kernelspec": {
   "display_name": "Python 3",
   "language": "python",
   "name": "python3"
  },
  "language_info": {
   "codemirror_mode": {
    "name": "ipython",
    "version": 3
   },
   "file_extension": ".py",
   "mimetype": "text/x-python",
   "name": "python",
   "nbconvert_exporter": "python",
   "pygments_lexer": "ipython3",
   "version": "3.7.1"
  }
 },
 "nbformat": 4,
 "nbformat_minor": 2
}
